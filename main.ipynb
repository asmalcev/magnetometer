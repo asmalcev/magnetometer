{
 "cells": [
  {
   "cell_type": "code",
   "execution_count": 28,
   "metadata": {},
   "outputs": [],
   "source": [
    "import numpy as np"
   ]
  },
  {
   "cell_type": "code",
   "execution_count": 29,
   "metadata": {},
   "outputs": [],
   "source": [
    "y = np.array([-9.27, -9.99, -53.38])\n",
    "m = np.array([14396.4, 3025.4, 50837.1])\n",
    "e = np.array([1, 1, 1])\n",
    "\n",
    "O = np.zeros(9)"
   ]
  },
  {
   "cell_type": "code",
   "execution_count": 30,
   "metadata": {},
   "outputs": [],
   "source": [
    "np.warnings.filterwarnings('ignore', category=np.VisibleDeprecationWarning)"
   ]
  },
  {
   "cell_type": "code",
   "execution_count": 68,
   "metadata": {},
   "outputs": [
    {
     "name": "stdout",
     "output_type": "stream",
     "text": [
      "[0. 0. 0.]\n",
      "[[0. 0. 0.]\n",
      " [0. 0. 0.]\n",
      " [0. 0. 0.]]\n",
      "[  85.9329   99.8001 2849.4244  185.2146  989.6652 1066.5324]\n",
      "[-0. -0. -0. -0. -0. -0.]\n",
      "[[2.0, 0, 0, 0.0, 0.0, 0], [0, 2.0, 0, 0.0, 0, 0.0], [0, 0, 2.0, 0, 0.0, 0.0], [0.0, 0.0, 0, 2.0, 0.0, 0.0], [0.0, 0, 0.0, 0.0, 2.0, 0.0], [0, 0.0, 0.0, 0.0, 0.0, 2.0]]\n"
     ]
    }
   ],
   "source": [
    "Z = np.linalg.norm(y) ** 2 - np.linalg.norm(m) ** 2\n",
    "\n",
    "h = O[:3]\n",
    "D = np.array([\n",
    "  [O[3], O[6], O[7]],\n",
    "  [O[6], O[4], O[8]],\n",
    "  [O[7], O[8], O[5]]\n",
    "])\n",
    "print(h)\n",
    "print(D)\n",
    "\n",
    "S = np.concatenate((y ** 2, [\n",
    "  2 * y[0] * y[1],\n",
    "  2 * y[0] * y[2],\n",
    "  2 * y[1] * y[2]\n",
    "]))\n",
    "print(S)\n",
    "\n",
    "J = np.concatenate((y * h, [\n",
    "  y[0] * h[1] + y[1] * h[0],\n",
    "  y[0] * h[2] + y[2] * h[0],\n",
    "  y[1] * h[2] + y[2] * h[1]\n",
    "]))\n",
    "print(J)\n",
    "\n",
    "F = [\n",
    "  [2 * (1 + D[0][0]),                 0,                 0,            2 * D[0][1],            2 * D[0][2],                      0],\n",
    "  [                0, 2 * (1 + D[1][1]),                 0,            2 * D[0][1],                      0,            2 * D[1][2]],\n",
    "  [                0,                 0, 2 * (1 + D[2][2]),                      0,            2 * D[0][2],            2 * D[1][2]],\n",
    "  [          D[0][1],           D[0][1],                 0, 2  + D[0][0] + D[1][1],                D[1][2],                D[0][2]],\n",
    "  [          D[0][2],                 0,           D[0][2],                D[1][2], 2  + D[0][0] + D[2][2],                D[0][1]],\n",
    "  [                0,           D[1][2],           D[1][2],                D[0][2],                D[0][1], 2  + D[1][1] + D[2][2]]\n",
    "]\n",
    "print(F)"
   ]
  },
  {
   "cell_type": "code",
   "execution_count": 69,
   "metadata": {},
   "outputs": [
    {
     "name": "stdout",
     "output_type": "stream",
     "text": [
      "[[  -18.54      -0.        -0.         0.         0.         0.\n",
      "      0.         0.         0.    ]\n",
      " [   -0.       -19.98      -0.         0.         0.         0.\n",
      "      0.         0.         0.    ]\n",
      " [   -0.        -0.      -106.76       0.         0.         0.\n",
      "      0.         0.         0.    ]\n",
      " [    0.         0.         0.      -171.8658    -0.        -0.\n",
      "     -0.        -0.        -0.    ]\n",
      " [    0.         0.         0.        -0.      -199.6002    -0.\n",
      "     -0.        -0.        -0.    ]\n",
      " [    0.         0.         0.        -0.        -0.     -5698.8488\n",
      "     -0.        -0.        -0.    ]\n",
      " [    0.         0.         0.        -0.        -0.        -0.\n",
      "   -370.4292    -0.        -0.    ]\n",
      " [    0.         0.         0.        -0.        -0.        -0.\n",
      "     -0.     -1979.3304    -0.    ]\n",
      " [    0.         0.         0.        -0.        -0.        -0.\n",
      "     -0.        -0.     -2133.0648]]\n"
     ]
    }
   ],
   "source": [
    "H11 = 2 * np.transpose(y) * (np.identity(3) + D)\n",
    "H12 = np.zeros((3, 6))\n",
    "H21 = np.zeros((6, 3))\n",
    "H22 = -S * F + 2 * J\n",
    "\n",
    "H = np.vstack(( np.hstack((H11, H12)), np.hstack((H21, H22)) ))\n",
    "print(H)"
   ]
  },
  {
   "cell_type": "code",
   "execution_count": 63,
   "metadata": {},
   "outputs": [
    {
     "name": "stdout",
     "output_type": "stream",
     "text": [
      "[[1.e+01 0.e+00 0.e+00 0.e+00 0.e+00 0.e+00 0.e+00 0.e+00 0.e+00]\n",
      " [0.e+00 1.e+01 0.e+00 0.e+00 0.e+00 0.e+00 0.e+00 0.e+00 0.e+00]\n",
      " [0.e+00 0.e+00 1.e+01 0.e+00 0.e+00 0.e+00 0.e+00 0.e+00 0.e+00]\n",
      " [0.e+00 0.e+00 0.e+00 1.e-03 0.e+00 0.e+00 0.e+00 0.e+00 0.e+00]\n",
      " [0.e+00 0.e+00 0.e+00 0.e+00 1.e-03 0.e+00 0.e+00 0.e+00 0.e+00]\n",
      " [0.e+00 0.e+00 0.e+00 0.e+00 0.e+00 1.e-03 0.e+00 0.e+00 0.e+00]\n",
      " [0.e+00 0.e+00 0.e+00 0.e+00 0.e+00 0.e+00 1.e-03 0.e+00 0.e+00]\n",
      " [0.e+00 0.e+00 0.e+00 0.e+00 0.e+00 0.e+00 0.e+00 1.e-03 0.e+00]\n",
      " [0.e+00 0.e+00 0.e+00 0.e+00 0.e+00 0.e+00 0.e+00 0.e+00 1.e-03]]\n"
     ]
    }
   ],
   "source": [
    "P11 = 10 * np.identity(3)\n",
    "P12 = np.zeros((3, 6))\n",
    "P21 = np.zeros((6, 3))\n",
    "P22 = 0.001 * np.identity(6)\n",
    "\n",
    "P = np.vstack(( np.hstack((P11, P12)), np.hstack((P21, P22)) ))\n",
    "\n",
    "print(P)"
   ]
  },
  {
   "cell_type": "code",
   "execution_count": 78,
   "metadata": {},
   "outputs": [
    {
     "name": "stdout",
     "output_type": "stream",
     "text": [
      "[[2.18917969e+01 2.42834917e-02 2.42834917e-02]\n",
      " [2.42834917e-02 2.54206105e+01 2.42834917e-02]\n",
      " [2.42834917e-02 2.42834917e-02 7.25122893e+02]]\n",
      "(9, 9)\n"
     ]
    }
   ],
   "source": [
    "SIGMA = 0.2522260688\n",
    "sigma2 = 4 * SIGMA ** 2 * np.transpose((np.identity(3) + D) * y - h) * ((np.identity(3) + D) * y - h) + 6 * SIGMA ** 4\n",
    "\n",
    "print(sigma2)\n",
    "\n",
    "# K = P * np.transpose(H) * np.linalg.inv(H * P * np.transpose(H) + sigma2)\n",
    "print((H * P * np.transpose(H)).shape)"
   ]
  }
 ],
 "metadata": {
  "kernelspec": {
   "display_name": "Python 3",
   "language": "python",
   "name": "python3"
  },
  "language_info": {
   "codemirror_mode": {
    "name": "ipython",
    "version": 3
   },
   "file_extension": ".py",
   "mimetype": "text/x-python",
   "name": "python",
   "nbconvert_exporter": "python",
   "pygments_lexer": "ipython3",
   "version": "3.10.11"
  },
  "orig_nbformat": 4
 },
 "nbformat": 4,
 "nbformat_minor": 2
}
