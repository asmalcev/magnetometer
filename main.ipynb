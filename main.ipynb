{
 "cells": [
  {
   "cell_type": "code",
   "execution_count": 1,
   "metadata": {},
   "outputs": [],
   "source": [
    "import numpy as np"
   ]
  },
  {
   "cell_type": "code",
   "execution_count": 2,
   "metadata": {},
   "outputs": [
    {
     "name": "stdout",
     "output_type": "stream",
     "text": [
      "[[ -9.27]\n",
      " [ -9.99]\n",
      " [-53.38]]\n",
      "[[14396.4]\n",
      " [ 3025.4]\n",
      " [50837.1]]\n"
     ]
    }
   ],
   "source": [
    "y = np.array([-9.27, -9.99, -53.38])\n",
    "y.shape = (3, 1)\n",
    "m = np.array([14396.4, 3025.4, 50837.1])\n",
    "m.shape = (3, 1)\n",
    "e = np.array([1, 1, 1])\n",
    "e.shape = (3, 1)\n",
    "\n",
    "O = np.zeros(9)\n",
    "\n",
    "print(y)\n",
    "print(m)"
   ]
  },
  {
   "cell_type": "code",
   "execution_count": 3,
   "metadata": {},
   "outputs": [],
   "source": [
    "np.warnings.filterwarnings('ignore', category=np.VisibleDeprecationWarning)"
   ]
  },
  {
   "cell_type": "code",
   "execution_count": 4,
   "metadata": {},
   "outputs": [
    {
     "name": "stdout",
     "output_type": "stream",
     "text": [
      "[[0.]\n",
      " [0.]\n",
      " [0.]]\n",
      "[[0. 0. 0.]\n",
      " [0. 0. 0.]\n",
      " [0. 0. 0.]]\n",
      "[[  85.9329   99.8001 2849.4244  185.2146  989.6652 1066.5324]]\n",
      "[[-0. -0. -0. -0. -0. -0.]]\n",
      "[[2.0, 0, 0, 0.0, 0.0, 0], [0, 2.0, 0, 0.0, 0, 0.0], [0, 0, 2.0, 0, 0.0, 0.0], [0.0, 0.0, 0, 2.0, 0.0, 0.0], [0.0, 0, 0.0, 0.0, 2.0, 0.0], [0, 0.0, 0.0, 0.0, 0.0, 2.0]]\n"
     ]
    }
   ],
   "source": [
    "Z = np.linalg.norm(y) ** 2 - np.linalg.norm(m) ** 2\n",
    "\n",
    "h = O[:3]\n",
    "h.shape = (3, 1)\n",
    "D = np.array([\n",
    "  [O[3], O[6], O[7]],\n",
    "  [O[6], O[4], O[8]],\n",
    "  [O[7], O[8], O[5]]\n",
    "])\n",
    "print(h)\n",
    "print(D)\n",
    "\n",
    "S = np.transpose(np.concatenate((y ** 2, [\n",
    "  2 * y[0] * y[1],\n",
    "  2 * y[0] * y[2],\n",
    "  2 * y[1] * y[2]\n",
    "])))\n",
    "print(S)\n",
    "\n",
    "J = np.transpose(np.concatenate((y * h, [\n",
    "  y[0] * h[1] + y[1] * h[0],\n",
    "  y[0] * h[2] + y[2] * h[0],\n",
    "  y[1] * h[2] + y[2] * h[1]\n",
    "])))\n",
    "print(J)\n",
    "\n",
    "F = [\n",
    "  [2 * (1 + D[0][0]),                 0,                 0,            2 * D[0][1],            2 * D[0][2],                      0],\n",
    "  [                0, 2 * (1 + D[1][1]),                 0,            2 * D[0][1],                      0,            2 * D[1][2]],\n",
    "  [                0,                 0, 2 * (1 + D[2][2]),                      0,            2 * D[0][2],            2 * D[1][2]],\n",
    "  [          D[0][1],           D[0][1],                 0, 2  + D[0][0] + D[1][1],                D[1][2],                D[0][2]],\n",
    "  [          D[0][2],                 0,           D[0][2],                D[1][2], 2  + D[0][0] + D[2][2],                D[0][1]],\n",
    "  [                0,           D[1][2],           D[1][2],                D[0][2],                D[0][1], 2  + D[1][1] + D[2][2]]\n",
    "]\n",
    "print(F)"
   ]
  },
  {
   "cell_type": "code",
   "execution_count": 5,
   "metadata": {},
   "outputs": [
    {
     "name": "stdout",
     "output_type": "stream",
     "text": [
      "[[  -18.54     -19.98    -106.76    -171.8658  -199.6002 -5698.8488\n",
      "   -370.4292 -1979.3304 -2133.0648]]\n",
      "(1, 9)\n"
     ]
    }
   ],
   "source": [
    "H1 = np.matmul(2 * np.transpose(y), (np.identity(3) + D)) - 2 * np.transpose(h)\n",
    "H2 = -np.matmul(S, F) + 2 * J\n",
    "\n",
    "H = np.hstack((H1, H2))\n",
    "print(H)\n",
    "print(H.shape)"
   ]
  },
  {
   "cell_type": "code",
   "execution_count": 6,
   "metadata": {},
   "outputs": [
    {
     "name": "stdout",
     "output_type": "stream",
     "text": [
      "[[1.e+01 0.e+00 0.e+00 0.e+00 0.e+00 0.e+00 0.e+00 0.e+00 0.e+00]\n",
      " [0.e+00 1.e+01 0.e+00 0.e+00 0.e+00 0.e+00 0.e+00 0.e+00 0.e+00]\n",
      " [0.e+00 0.e+00 1.e+01 0.e+00 0.e+00 0.e+00 0.e+00 0.e+00 0.e+00]\n",
      " [0.e+00 0.e+00 0.e+00 1.e-03 0.e+00 0.e+00 0.e+00 0.e+00 0.e+00]\n",
      " [0.e+00 0.e+00 0.e+00 0.e+00 1.e-03 0.e+00 0.e+00 0.e+00 0.e+00]\n",
      " [0.e+00 0.e+00 0.e+00 0.e+00 0.e+00 1.e-03 0.e+00 0.e+00 0.e+00]\n",
      " [0.e+00 0.e+00 0.e+00 0.e+00 0.e+00 0.e+00 1.e-03 0.e+00 0.e+00]\n",
      " [0.e+00 0.e+00 0.e+00 0.e+00 0.e+00 0.e+00 0.e+00 1.e-03 0.e+00]\n",
      " [0.e+00 0.e+00 0.e+00 0.e+00 0.e+00 0.e+00 0.e+00 0.e+00 1.e-03]]\n"
     ]
    }
   ],
   "source": [
    "P11 = 10 * np.identity(3)\n",
    "P12 = np.zeros((3, 6))\n",
    "P21 = np.zeros((6, 3))\n",
    "P22 = 0.001 * np.identity(6)\n",
    "\n",
    "P = np.vstack(( np.hstack((P11, P12)), np.hstack((P21, P22)) ))\n",
    "\n",
    "print(P)"
   ]
  },
  {
   "cell_type": "code",
   "execution_count": 7,
   "metadata": {},
   "outputs": [
    {
     "name": "stdout",
     "output_type": "stream",
     "text": [
      "[[772.38673334]]\n",
      "[[-1.43200502e+05]\n",
      " [-1.54322871e+05]\n",
      " [-8.24600083e+05]\n",
      " [-1.32746865e+02]\n",
      " [-1.54168548e+02]\n",
      " [-4.40171524e+03]\n",
      " [-2.86114602e+02]\n",
      " [-1.52880855e+03]\n",
      " [-1.64755097e+03]]\n",
      "(9, 1)\n"
     ]
    }
   ],
   "source": [
    "SIGMA = 0.2522260688\n",
    "IDyh = np.matmul((np.identity(3) + D), y) - h\n",
    "sigma2 = 4 * SIGMA ** 2 * np.matmul(np.transpose(IDyh), IDyh) + 6 * SIGMA ** 4\n",
    "\n",
    "print(sigma2)\n",
    "\n",
    "K = np.matmul(\n",
    "  np.matmul(P, np.transpose(H)),\n",
    "  np.linalg.inv(\n",
    "      np.matmul(\n",
    "        np.matmul(H, P),\n",
    "        np.transpose(H)\n",
    "      )\n",
    "    )\n",
    "    + sigma2\n",
    ")\n",
    "print(K)\n",
    "print(K.shape)"
   ]
  },
  {
   "cell_type": "code",
   "execution_count": 8,
   "metadata": {},
   "outputs": [
    {
     "name": "stdout",
     "output_type": "stream",
     "text": [
      "[[0.]]\n"
     ]
    }
   ],
   "source": [
    "fi = np.matmul(\n",
    "  np.matmul(\n",
    "    -np.transpose(y),\n",
    "    2 * D + D ** 2\n",
    "  ),\n",
    "  y\n",
    ") + np.matmul(\n",
    "  np.matmul(\n",
    "    2 * np.transpose(y),\n",
    "    np.identity(3) + D\n",
    "  ),\n",
    "  h\n",
    ") - np.linalg.norm(h) ** 2\n",
    "\n",
    "print(fi)"
   ]
  },
  {
   "cell_type": "code",
   "execution_count": 9,
   "metadata": {},
   "outputs": [
    {
     "name": "stdout",
     "output_type": "stream",
     "text": [
      "[[4.01078410e+14]\n",
      " [4.32230132e+14]\n",
      " [2.30955400e+15]\n",
      " [3.71799686e+11]\n",
      " [4.31797901e+11]\n",
      " [1.23283992e+13]\n",
      " [8.01354664e+11]\n",
      " [4.28191311e+12]\n",
      " [4.61448888e+12]]\n",
      "[[-2.65493630e+07 -2.86114602e+07 -1.52880855e+08 -2.46112688e+04\n",
      "  -2.85828487e+04 -8.16078006e+05 -5.30456472e+04 -2.83441106e+05\n",
      "  -3.05455949e+05]\n",
      " [-2.86114602e+07 -3.08336995e+07 -1.64755097e+08 -2.65228236e+04\n",
      "  -3.08028758e+04 -8.79462706e+05 -5.71656975e+04 -3.05455949e+05\n",
      "  -3.29180683e+05]\n",
      " [-1.52880855e+08 -1.64755097e+08 -8.80343039e+08 -1.41720553e+05\n",
      "  -1.64590342e+05 -4.69927119e+06 -3.05455949e+05 -1.63215601e+06\n",
      "  -1.75892541e+06]\n",
      " [-2.46112688e+04 -2.65228236e+04 -1.41720553e+05 -2.28136461e+01\n",
      "  -2.64963008e+01 -7.56504312e+02 -4.91733150e+01 -2.62749905e+02\n",
      "  -2.83157665e+02]\n",
      " [-2.85828487e+04 -3.08028758e+04 -1.64590342e+05 -2.64963008e+01\n",
      "  -3.07710730e+01 -8.78583243e+02 -5.71085318e+01 -3.05150493e+02\n",
      "  -3.28851502e+02]\n",
      " [-8.16078006e+05 -8.79462706e+05 -4.69927119e+06 -7.56504312e+02\n",
      "  -8.78583243e+02 -2.50847086e+04 -1.63052386e+03 -8.71244879e+03\n",
      "  -9.38914385e+03]\n",
      " [-5.30456472e+04 -5.71656975e+04 -3.05455949e+05 -4.91733150e+01\n",
      "  -5.71085318e+01 -1.63052386e+03 -1.05984203e+02 -5.66315330e+02\n",
      "  -6.10300986e+02]\n",
      " [-2.83441106e+05 -3.05455949e+05 -1.63215601e+06 -2.62749905e+02\n",
      "  -3.05150493e+02 -8.71244879e+03 -5.66315330e+02 -3.02601625e+03\n",
      "  -3.26104771e+03]\n",
      " [-3.05455949e+05 -3.29180683e+05 -1.75892541e+06 -2.83157665e+02\n",
      "  -3.28851502e+02 -9.38914385e+03 -6.10300986e+02 -3.26104771e+03\n",
      "  -3.51433197e+03]]\n"
     ]
    }
   ],
   "source": [
    "Ot = np.transpose(O)\n",
    "Ot.shape = (9, 1)\n",
    "\n",
    "O2 = Ot + np.matmul(K, Z - fi)\n",
    "print(O2)\n",
    "\n",
    "P2 = np.matmul(np.identity(9) - np.matmul(K, H), P)\n",
    "print(P2)"
   ]
  }
 ],
 "metadata": {
  "kernelspec": {
   "display_name": "Python 3",
   "language": "python",
   "name": "python3"
  },
  "language_info": {
   "codemirror_mode": {
    "name": "ipython",
    "version": 3
   },
   "file_extension": ".py",
   "mimetype": "text/x-python",
   "name": "python",
   "nbconvert_exporter": "python",
   "pygments_lexer": "ipython3",
   "version": "3.10.11"
  },
  "orig_nbformat": 4
 },
 "nbformat": 4,
 "nbformat_minor": 2
}
