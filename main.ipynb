{
 "cells": [
  {
   "cell_type": "code",
   "execution_count": 26,
   "metadata": {},
   "outputs": [],
   "source": [
    "import numpy as np"
   ]
  },
  {
   "cell_type": "code",
   "execution_count": 27,
   "metadata": {},
   "outputs": [
    {
     "name": "stdout",
     "output_type": "stream",
     "text": [
      "[[ -9.27]\n",
      " [ -9.99]\n",
      " [-53.38]]\n",
      "[[14.3964]\n",
      " [30.25  ]\n",
      " [50.837 ]]\n"
     ]
    }
   ],
   "source": [
    "y = np.array([-9.27, -9.99, -53.38])\n",
    "y.shape = (3, 1)\n",
    "m = np.array([14.3964, 30.25, 50.837])\n",
    "m.shape = (3, 1)\n",
    "e = np.array([1, 1, 1])\n",
    "e.shape = (3, 1)\n",
    "\n",
    "O = np.zeros(9)\n",
    "\n",
    "print(y)\n",
    "print(m)"
   ]
  },
  {
   "cell_type": "code",
   "execution_count": 28,
   "metadata": {},
   "outputs": [],
   "source": [
    "np.warnings.filterwarnings('ignore', category=np.VisibleDeprecationWarning)"
   ]
  },
  {
   "cell_type": "code",
   "execution_count": 29,
   "metadata": {},
   "outputs": [
    {
     "name": "stdout",
     "output_type": "stream",
     "text": [
      "[[0.]\n",
      " [0.]\n",
      " [0.]]\n",
      "[[0. 0. 0.]\n",
      " [0. 0. 0.]\n",
      " [0. 0. 0.]]\n",
      "[[  85.9329   99.8001 2849.4244  185.2146  989.6652 1066.5324]]\n",
      "[[-0. -0. -0. -0. -0. -0.]]\n",
      "[[2.0, 0, 0, 0.0, 0.0, 0], [0, 2.0, 0, 0.0, 0, 0.0], [0, 0, 2.0, 0, 0.0, 0.0], [0.0, 0.0, 0, 2.0, 0.0, 0.0], [0.0, 0, 0.0, 0.0, 2.0, 0.0], [0, 0.0, 0.0, 0.0, 0.0, 2.0]]\n"
     ]
    }
   ],
   "source": [
    "Z = np.linalg.norm(y) ** 2 - np.linalg.norm(m) ** 2\n",
    "\n",
    "h = O[:3]\n",
    "h.shape = (3, 1)\n",
    "D = np.array([\n",
    "  [O[3], O[6], O[7]],\n",
    "  [O[6], O[4], O[8]],\n",
    "  [O[7], O[8], O[5]]\n",
    "])\n",
    "print(h)\n",
    "print(D)\n",
    "\n",
    "S = np.transpose(np.concatenate((y ** 2, [\n",
    "  2 * y[0] * y[1],\n",
    "  2 * y[0] * y[2],\n",
    "  2 * y[1] * y[2]\n",
    "])))\n",
    "print(S)\n",
    "\n",
    "J = np.transpose([\n",
    "  y[0] * h[0],\n",
    "  y[1] * h[1],\n",
    "  y[2] * h[2],\n",
    "  y[0] * h[1] + y[1] * h[0],\n",
    "  y[0] * h[2] + y[2] * h[0],\n",
    "  y[1] * h[2] + y[2] * h[1]\n",
    "])\n",
    "print(J)\n",
    "\n",
    "F = [\n",
    "  [2 * (1 + D[0][0]),                 0,                 0,            2 * D[0][1],            2 * D[0][2],                      0],\n",
    "  [                0, 2 * (1 + D[1][1]),                 0,            2 * D[0][1],                      0,            2 * D[1][2]],\n",
    "  [                0,                 0, 2 * (1 + D[2][2]),                      0,            2 * D[0][2],            2 * D[1][2]],\n",
    "  [          D[0][1],           D[0][1],                 0, 2  + D[0][0] + D[1][1],                D[1][2],                D[0][2]],\n",
    "  [          D[0][2],                 0,           D[0][2],                D[1][2], 2  + D[0][0] + D[2][2],                D[0][1]],\n",
    "  [                0,           D[1][2],           D[1][2],                D[0][2],                D[0][1], 2  + D[1][1] + D[2][2]]\n",
    "]\n",
    "print(F)"
   ]
  },
  {
   "cell_type": "code",
   "execution_count": 30,
   "metadata": {},
   "outputs": [
    {
     "name": "stdout",
     "output_type": "stream",
     "text": [
      "[[  -18.54     -19.98    -106.76    -171.8658  -199.6002 -5698.8488\n",
      "   -370.4292 -1979.3304 -2133.0648]]\n",
      "(1, 9)\n"
     ]
    }
   ],
   "source": [
    "H1 = np.matmul(2 * np.transpose(y), (np.identity(3) + D)) - 2 * np.transpose(h)\n",
    "H2 = -np.matmul(S, F) + 2 * J\n",
    "\n",
    "H = np.hstack((H1, H2))\n",
    "print(H)\n",
    "print(H.shape)"
   ]
  },
  {
   "cell_type": "code",
   "execution_count": 31,
   "metadata": {},
   "outputs": [
    {
     "name": "stdout",
     "output_type": "stream",
     "text": [
      "[[1.e+01 0.e+00 0.e+00 0.e+00 0.e+00 0.e+00 0.e+00 0.e+00 0.e+00]\n",
      " [0.e+00 1.e+01 0.e+00 0.e+00 0.e+00 0.e+00 0.e+00 0.e+00 0.e+00]\n",
      " [0.e+00 0.e+00 1.e+01 0.e+00 0.e+00 0.e+00 0.e+00 0.e+00 0.e+00]\n",
      " [0.e+00 0.e+00 0.e+00 1.e-03 0.e+00 0.e+00 0.e+00 0.e+00 0.e+00]\n",
      " [0.e+00 0.e+00 0.e+00 0.e+00 1.e-03 0.e+00 0.e+00 0.e+00 0.e+00]\n",
      " [0.e+00 0.e+00 0.e+00 0.e+00 0.e+00 1.e-03 0.e+00 0.e+00 0.e+00]\n",
      " [0.e+00 0.e+00 0.e+00 0.e+00 0.e+00 0.e+00 1.e-03 0.e+00 0.e+00]\n",
      " [0.e+00 0.e+00 0.e+00 0.e+00 0.e+00 0.e+00 0.e+00 1.e-03 0.e+00]\n",
      " [0.e+00 0.e+00 0.e+00 0.e+00 0.e+00 0.e+00 0.e+00 0.e+00 1.e-03]]\n"
     ]
    }
   ],
   "source": [
    "P11 = 10 * np.identity(3)\n",
    "P12 = np.zeros((3, 6))\n",
    "P21 = np.zeros((6, 3))\n",
    "P22 = 0.001 * np.identity(6)\n",
    "\n",
    "P = np.vstack(( np.hstack((P11, P12)), np.hstack((P21, P22)) ))\n",
    "\n",
    "print(P)"
   ]
  },
  {
   "cell_type": "code",
   "execution_count": 32,
   "metadata": {},
   "outputs": [
    {
     "name": "stdout",
     "output_type": "stream",
     "text": [
      "[[772.38673334]]\n",
      "[[-1.13512611e-03]\n",
      " [-1.22329124e-03]\n",
      " [-6.53646511e-03]\n",
      " [-1.05226190e-06]\n",
      " [-1.22206795e-06]\n",
      " [-3.48916508e-05]\n",
      " [-2.26798196e-06]\n",
      " [-1.21186063e-05]\n",
      " [-1.30598573e-05]]\n",
      "(9, 1)\n"
     ]
    }
   ],
   "source": [
    "SIGMA = 0.2522260688\n",
    "IDyh = np.matmul((np.identity(3) + D), y) - h\n",
    "sigma2 = 4 * SIGMA ** 2 * np.matmul(np.transpose(IDyh), IDyh) + 6 * SIGMA ** 4\n",
    "\n",
    "print(sigma2)\n",
    "\n",
    "K = np.matmul(\n",
    "  np.matmul(P, np.transpose(H)),\n",
    "  np.linalg.inv(\n",
    "      np.matmul(\n",
    "        np.matmul(H, P),\n",
    "        np.transpose(H)\n",
    "      ) + sigma2\n",
    "    )\n",
    ")\n",
    "print(K)\n",
    "print(K.shape)"
   ]
  },
  {
   "cell_type": "code",
   "execution_count": 33,
   "metadata": {},
   "outputs": [
    {
     "name": "stdout",
     "output_type": "stream",
     "text": [
      "[[0.]]\n"
     ]
    }
   ],
   "source": [
    "fi = np.matmul(\n",
    "  np.matmul(\n",
    "    -np.transpose(y),\n",
    "    2 * D + D ** 2\n",
    "  ),\n",
    "  y\n",
    ") + np.matmul(\n",
    "  np.matmul(\n",
    "    2 * np.transpose(y),\n",
    "    np.identity(3) + D\n",
    "  ),\n",
    "  h\n",
    ") - np.linalg.norm(h) ** 2\n",
    "\n",
    "print(fi)"
   ]
  },
  {
   "cell_type": "code",
   "execution_count": 34,
   "metadata": {},
   "outputs": [
    {
     "name": "stdout",
     "output_type": "stream",
     "text": [
      "-671.5620019600001\n",
      "[[7.62307560e-01]\n",
      " [8.21515915e-01]\n",
      " [4.38964159e+00]\n",
      " [7.06659109e-04]\n",
      " [8.20694399e-04]\n",
      " [2.34319068e-02]\n",
      " [1.52309051e-03]\n",
      " [8.13839552e-03]\n",
      " [8.77050391e-03]]\n",
      "[[ 9.78954762e+00 -2.26798196e-01 -1.21186063e+00 -1.95089356e-04\n",
      "  -2.26571398e-04 -6.46891205e-03 -4.20483855e-04 -2.24678961e-03\n",
      "  -2.42129754e-03]\n",
      " [-2.26798196e-01  9.75558641e+00 -1.30598573e+00 -2.10241928e-04\n",
      "  -2.44169176e-04 -6.97135182e-03 -4.53142796e-04 -2.42129754e-03\n",
      "  -2.60935949e-03]\n",
      " [-1.21186063e+00 -1.30598573e+00  3.02166985e+00 -1.12339481e-03\n",
      "  -1.30467974e-03 -3.72503263e-02 -2.42129754e-03 -1.29378241e-02\n",
      "  -1.39427036e-02]\n",
      " [-1.95089356e-04 -2.10241928e-04 -1.12339481e-03  9.99819152e-04\n",
      "  -2.10031686e-07 -5.99668147e-06 -3.89788534e-07 -2.08277397e-06\n",
      "  -2.24454282e-06]\n",
      " [-2.26571398e-04 -2.44169176e-04 -1.30467974e-03 -2.10031686e-07\n",
      "   9.99756075e-04 -6.96438047e-06 -4.52689653e-07 -2.41887624e-06\n",
      "  -2.60675013e-06]\n",
      " [-6.46891205e-03 -6.97135182e-03 -3.72503263e-02 -5.99668147e-06\n",
      "  -6.96438047e-06  8.01157758e-04 -1.29248863e-05 -6.90621050e-05\n",
      "  -7.44261520e-05]\n",
      " [-4.20483855e-04 -4.53142796e-04 -2.42129754e-03 -3.89788534e-07\n",
      "  -4.52689653e-07 -1.29248863e-05  9.99159873e-04 -4.48908564e-06\n",
      "  -4.83775249e-06]\n",
      " [-2.24678961e-03 -2.42129754e-03 -1.29378241e-02 -2.08277397e-06\n",
      "  -2.41887624e-06 -6.90621050e-05 -4.48908564e-06  9.76013274e-04\n",
      "  -2.58497725e-05]\n",
      " [-2.42129754e-03 -2.60935949e-03 -1.39427036e-02 -2.24454282e-06\n",
      "  -2.60675013e-06 -7.44261520e-05 -4.83775249e-06 -2.58497725e-05\n",
      "   9.72142478e-04]]\n"
     ]
    }
   ],
   "source": [
    "Ot = np.transpose(O)\n",
    "Ot.shape = (9, 1)\n",
    "\n",
    "print(Z)\n",
    "\n",
    "O2 = Ot + np.matmul(K, Z - fi)\n",
    "print(O2)\n",
    "\n",
    "P2 = np.matmul(np.identity(9) - np.matmul(K, H), P)\n",
    "print(P2)"
   ]
  }
 ],
 "metadata": {
  "kernelspec": {
   "display_name": "Python 3",
   "language": "python",
   "name": "python3"
  },
  "language_info": {
   "codemirror_mode": {
    "name": "ipython",
    "version": 3
   },
   "file_extension": ".py",
   "mimetype": "text/x-python",
   "name": "python",
   "nbconvert_exporter": "python",
   "pygments_lexer": "ipython3",
   "version": "3.10.11"
  },
  "orig_nbformat": 4
 },
 "nbformat": 4,
 "nbformat_minor": 2
}
