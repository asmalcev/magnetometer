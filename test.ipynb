{
 "cells": [
  {
   "cell_type": "code",
   "execution_count": 7,
   "metadata": {},
   "outputs": [
    {
     "name": "stdout",
     "output_type": "stream",
     "text": [
      "(4, 1) (1, 3)\n",
      "[[[[ 1  2  3]]]\n",
      "\n",
      "\n",
      " [[[ 2  4  6]]]\n",
      "\n",
      "\n",
      " [[[ 3  6  9]]]\n",
      "\n",
      "\n",
      " [[[ 4  8 12]]]]\n",
      "[[ 1  2  3]\n",
      " [ 2  4  6]\n",
      " [ 3  6  9]\n",
      " [ 4  8 12]]\n"
     ]
    }
   ],
   "source": [
    "import numpy as np\n",
    "\n",
    "a = np.matrix([[1], [2], [3], [4]])\n",
    "b = np.matrix([1, 2, 3])\n",
    "\n",
    "print(a.shape, b.shape)\n",
    "print(np.tensordot(a, b, axes=0))\n",
    "print(np.kron(a, b))"
   ]
  }
 ],
 "metadata": {
  "kernelspec": {
   "display_name": "Python 3",
   "language": "python",
   "name": "python3"
  },
  "language_info": {
   "codemirror_mode": {
    "name": "ipython",
    "version": 3
   },
   "file_extension": ".py",
   "mimetype": "text/x-python",
   "name": "python",
   "nbconvert_exporter": "python",
   "pygments_lexer": "ipython3",
   "version": "3.10.11"
  },
  "orig_nbformat": 4
 },
 "nbformat": 4,
 "nbformat_minor": 2
}
