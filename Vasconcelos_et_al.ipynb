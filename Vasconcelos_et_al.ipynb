{
 "cells": [
  {
   "cell_type": "code",
   "execution_count": 45,
   "metadata": {},
   "outputs": [
    {
     "name": "stdout",
     "output_type": "stream",
     "text": [
      "[[ -8.88  -9.54 -53.26]\n",
      " [ -9.27  -9.99 -53.38]\n",
      " [ -9.74  -9.48 -53.38]\n",
      " [-11.31  -8.79 -53.2 ]\n",
      " [-15.44  -6.52 -52.3 ]]\n",
      "y.shape = (603, 3)\n"
     ]
    }
   ],
   "source": [
    "import numpy as np\n",
    "import csv\n",
    "\n",
    "# 0-x\n",
    "# 1-y\n",
    "# 2-z\n",
    "y = []\n",
    "\n",
    "with open('dist/iphone-calibration.csv', 'r') as fr:\n",
    "  csvreader = csv.reader(fr, delimiter=';')\n",
    "\n",
    "  index = 0\n",
    "  for row in csvreader:\n",
    "    index += 1\n",
    "    if index == 1:\n",
    "      continue\n",
    "\n",
    "    y.append(list(map(lambda v: float(v.replace(',', '.')), row[1:4])))\n",
    "\n",
    "y = np.array(y)\n",
    "print(y[:5])\n",
    "print('y.shape =', y.shape)"
   ]
  },
  {
   "cell_type": "code",
   "execution_count": 42,
   "metadata": {},
   "outputs": [
    {
     "name": "stdout",
     "output_type": "stream",
     "text": [
      "[[ 78.8544  84.7152 472.9488  91.0116 508.1004  -8.88    -9.54   -53.26\n",
      "    1.    ]\n",
      " [ 85.9329  92.6073 494.8326  99.8001 533.2662  -9.27    -9.99   -53.38\n",
      "    1.    ]\n",
      " [ 94.8676  92.3352 519.9212  89.8704 506.0424  -9.74    -9.48   -53.38\n",
      "    1.    ]\n",
      " [127.9161  99.4149 601.692   77.2641 467.628  -11.31    -8.79   -53.2\n",
      "    1.    ]\n",
      " [238.3936 100.6688 807.512   42.5104 340.996  -15.44    -6.52   -52.3\n",
      "    1.    ]]\n",
      "L.shape = (603, 9)\n"
     ]
    }
   ],
   "source": [
    "L = []\n",
    "for r in y:\n",
    "  L.append([ r[0]**2, r[0]*r[1], r[0]*r[2], r[1]**2, r[1]*r[2], r[0], r[1], r[2], 1 ])\n",
    "L = np.array(L)\n",
    "print(L[:5])\n",
    "print('L.shape =', L.shape)"
   ]
  },
  {
   "cell_type": "code",
   "execution_count": 44,
   "metadata": {},
   "outputs": [
    {
     "name": "stdout",
     "output_type": "stream",
     "text": [
      "[[2836.6276]\n",
      " [2849.4244]\n",
      " [2849.4244]\n",
      " [2830.24  ]\n",
      " [2735.29  ]]\n",
      "b.shape = (603, 1)\n"
     ]
    }
   ],
   "source": [
    "b = np.array(list(map(lambda r: r[2]**2, y)))\n",
    "b.shape = (b.shape[0], 1)\n",
    "print(b[:5])\n",
    "print('b.shape =', b.shape)"
   ]
  }
 ],
 "metadata": {
  "kernelspec": {
   "display_name": "Python 3",
   "language": "python",
   "name": "python3"
  },
  "language_info": {
   "codemirror_mode": {
    "name": "ipython",
    "version": 3
   },
   "file_extension": ".py",
   "mimetype": "text/x-python",
   "name": "python",
   "nbconvert_exporter": "python",
   "pygments_lexer": "ipython3",
   "version": "3.10.11"
  },
  "orig_nbformat": 4
 },
 "nbformat": 4,
 "nbformat_minor": 2
}
