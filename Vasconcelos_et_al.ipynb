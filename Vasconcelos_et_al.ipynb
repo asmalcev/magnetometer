{
 "cells": [
  {
   "cell_type": "code",
   "execution_count": 12,
   "metadata": {},
   "outputs": [
    {
     "name": "stdout",
     "output_type": "stream",
     "text": [
      "[[ -8.88  -9.54 -53.26]\n",
      " [ -9.27  -9.99 -53.38]\n",
      " [ -9.74  -9.48 -53.38]\n",
      " [-11.31  -8.79 -53.2 ]\n",
      " [-15.44  -6.52 -52.3 ]]\n",
      "y.shape = (603, 3)\n"
     ]
    }
   ],
   "source": [
    "import numpy as np\n",
    "import csv\n",
    "\n",
    "# 0-x\n",
    "# 1-y\n",
    "# 2-z\n",
    "y = []\n",
    "\n",
    "with open('dist/iphone-calibration.csv', 'r') as fr:\n",
    "  csvreader = csv.reader(fr, delimiter=';')\n",
    "\n",
    "  index = 0\n",
    "  for row in csvreader:\n",
    "    index += 1\n",
    "    if index == 1:\n",
    "      continue\n",
    "\n",
    "    y.append(list(map(lambda v: float(v.replace(',', '.')), row[1:4])))\n",
    "\n",
    "y = np.array(y)\n",
    "print(y[:5])\n",
    "print('y.shape =', y.shape)"
   ]
  },
  {
   "cell_type": "code",
   "execution_count": 13,
   "metadata": {},
   "outputs": [
    {
     "name": "stdout",
     "output_type": "stream",
     "text": [
      "[[ 78.8544  84.7152 472.9488  91.0116 508.1004  -8.88    -9.54   -53.26\n",
      "    1.    ]\n",
      " [ 85.9329  92.6073 494.8326  99.8001 533.2662  -9.27    -9.99   -53.38\n",
      "    1.    ]\n",
      " [ 94.8676  92.3352 519.9212  89.8704 506.0424  -9.74    -9.48   -53.38\n",
      "    1.    ]\n",
      " [127.9161  99.4149 601.692   77.2641 467.628  -11.31    -8.79   -53.2\n",
      "    1.    ]\n",
      " [238.3936 100.6688 807.512   42.5104 340.996  -15.44    -6.52   -52.3\n",
      "    1.    ]]\n",
      "L.shape = (603, 9)\n"
     ]
    }
   ],
   "source": [
    "L = []\n",
    "for r in y:\n",
    "  L.append([ r[0]**2, r[0]*r[1], r[0]*r[2], r[1]**2, r[1]*r[2], r[0], r[1], r[2], 1 ])\n",
    "L = np.array(L)\n",
    "print(L[:5])\n",
    "print('L.shape =', L.shape)"
   ]
  },
  {
   "cell_type": "code",
   "execution_count": 14,
   "metadata": {},
   "outputs": [
    {
     "name": "stdout",
     "output_type": "stream",
     "text": [
      "[[2836.6276]\n",
      " [2849.4244]\n",
      " [2849.4244]\n",
      " [2830.24  ]\n",
      " [2735.29  ]]\n",
      "b.shape = (603, 1)\n"
     ]
    }
   ],
   "source": [
    "b = np.array(list(map(lambda r: r[2]**2, y)))\n",
    "b.shape = (b.shape[0], 1)\n",
    "print(b[:5])\n",
    "print('b.shape =', b.shape)"
   ]
  },
  {
   "cell_type": "code",
   "execution_count": 15,
   "metadata": {},
   "outputs": [
    {
     "name": "stdout",
     "output_type": "stream",
     "text": [
      "[[-1.04064464e+00]\n",
      " [-6.84464199e-02]\n",
      " [-7.72773853e-03]\n",
      " [-9.40092178e-01]\n",
      " [ 1.35881364e-02]\n",
      " [-1.83447201e+00]\n",
      " [-4.46200000e-01]\n",
      " [-2.18026360e+00]\n",
      " [ 2.88821886e+03]]\n",
      "p.shape = (9, 1)\n"
     ]
    }
   ],
   "source": [
    "p = np.matmul(\n",
    "  np.matmul(\n",
    "    np.linalg.inv(\n",
    "      np.matmul(np.transpose(L), L)\n",
    "    ),\n",
    "    np.transpose(L)\n",
    "  ),\n",
    "  b\n",
    ")\n",
    "\n",
    "print(p)\n",
    "print('p.shape =', p.shape)"
   ]
  },
  {
   "cell_type": "code",
   "execution_count": 16,
   "metadata": {},
   "outputs": [
    {
     "name": "stdout",
     "output_type": "stream",
     "text": [
      "-1.0406446423654294 -0.06844641988586858 -0.007727738528614053 -0.9400921775591867 0.013588136404898206 -1.8344720139405624 -0.4462000001755859 -2.1802636033761686 2888.2188567120743\n"
     ]
    }
   ],
   "source": [
    "A, B, C, D, E, G, H, I, J = np.transpose(p)[0]\n",
    "print(A, B, C, D, E, G, H, I, J)"
   ]
  },
  {
   "cell_type": "code",
   "execution_count": 17,
   "metadata": {},
   "outputs": [
    {
     "name": "stdout",
     "output_type": "stream",
     "text": [
      "alpha1 = 3.908267169631295\n",
      "alpha2 = 45183.49413157619\n",
      "alpha3 = -14.696042963672262\n",
      "beta1 = -6.803117936395392\n",
      "beta2 = 1.545490727016449\n",
      "beta3 = -8.506104313632525\n"
     ]
    }
   ],
   "source": [
    "alpha1 = -B**2 + D*C**2 + 4*D*A + A*E**2 - B*E*C\n",
    "alpha2 = 4*A*E**2*J - E**2*G**2 - 4*B*E*C*J + 2*E*C*H*D + 2*B*E*I*G - 4*E*H*A*I - 4*D*I*C*G - C**2*H**2 + 4*D*A*I**2 + 2*C*B*H*I - 4*D*G**2 + 4*D*C**2*J + 4*B*H*G - 4*A*H**2 - B**2*I**2 - 4*B**2*J + 16*D*A*J\n",
    "alpha3 = E**4*A - C*B*E**3 + E**2*C**2*D - 2*B**2*E**2 + 8*D*A*E**2 - 4*D*B**2 + 16*D**2*A\n",
    "\n",
    "print('alpha1 =', alpha1)\n",
    "print('alpha2 =', alpha2)\n",
    "print('alpha3 =', alpha3)\n",
    "\n",
    "beta1 = 2*B*H + B*E*I - 2*C*D*I - 4*D*G + E*C*H - E**2*G\n",
    "beta2 = -2*A*E*I + 4*A*H - B*C*I - 2*B*G + C**2*H - C*E*G\n",
    "beta3 = 4*D*I*A - 2*D*G*C + E*G*B - I*B**2 - 2*E*H*A + C*B*H\n",
    "\n",
    "print('beta1 =', beta1)\n",
    "print('beta2 =', beta2)\n",
    "print('beta3 =', beta3)"
   ]
  },
  {
   "cell_type": "code",
   "execution_count": 18,
   "metadata": {},
   "outputs": [
    {
     "name": "stdout",
     "output_type": "stream",
     "text": [
      "_a = 52.732725559984516\n",
      "_b = 55.482212695833915\n",
      "_c = 53.762812774808914\n",
      "tanpi = 0.008865584516980909\n",
      "tanphi = -0.007820005166541258\n",
      "tanla = 0.007007317789431428\n",
      "pi = 0.00886535225379009\n",
      "phi = -0.007819845768151168\n",
      "la = 0.00700720310053032\n",
      "secpi = 1.000039298522227\n",
      "secphi = 1.0000305757729633\n",
      "secla = 1.0000245509499266\n"
     ]
    }
   ],
   "source": [
    "_a = 1 / (2 * alpha1) * (-(4*D + E**2) * alpha2)**0.5\n",
    "_b = 1 / (2 * alpha1) * (-(4*A + C**2) * alpha2)**0.5\n",
    "_c = 1 / (2 * alpha1) * ((4*D*A - B**2) * alpha2)**0.5\n",
    "\n",
    "print('_a =', _a)\n",
    "print('_b =', _b)\n",
    "print('_c =', _c)\n",
    "\n",
    "tanpi = -1 / (2 * alpha1) * (2*B + E*C) * alpha1**(-0.5)\n",
    "tanphi = (B*E - 2*C*D) * alpha1**(-0.5)\n",
    "tanla = E * (-alpha1*alpha3**(-1))**0.5\n",
    "\n",
    "print('tanpi =', tanpi)\n",
    "print('tanphi =', tanphi)\n",
    "print('tanla =', tanla)\n",
    "\n",
    "pi = np.arctan(tanpi)\n",
    "phi = np.arctan(tanphi)\n",
    "la = np.arctan(tanla)\n",
    "\n",
    "print('pi =', pi)\n",
    "print('phi =', phi)\n",
    "print('la =', la)\n",
    "\n",
    "secpi = 1 / np.cos(pi)\n",
    "secphi = 1 / np.cos(phi)\n",
    "secla = 1 / np.cos(la)\n",
    "\n",
    "print('secpi =', secpi)\n",
    "print('secphi =', secphi)\n",
    "print('secla =', secla)"
   ]
  },
  {
   "cell_type": "code",
   "execution_count": 19,
   "metadata": {},
   "outputs": [
    {
     "name": "stdout",
     "output_type": "stream",
     "text": [
      "[[ 0.01896356  0.          0.        ]\n",
      " [-0.00016812 -0.0180245   0.        ]\n",
      " [ 0.00014947 -0.00012631  0.01860124]]\n",
      "T0.shape = (3, 3)\n",
      "[[-0.87034965]\n",
      " [ 0.19772071]\n",
      " [-1.0882194 ]]\n",
      "h0.shape = (3, 1)\n"
     ]
    }
   ],
   "source": [
    "T0 = np.array([\n",
    "  [                                1/_a,                              0,                     0],\n",
    "  [                       -1/_a * tanpi,                  -1/_b * secpi,                     0],\n",
    "  [1/_a * (tanpi*tanla*secphi - tanphi), -1/_b * secpi * tanla * secphi, 1/_c * secla * secphi],\n",
    "])\n",
    "print(T0)\n",
    "print('T0.shape =', T0.shape)\n",
    "\n",
    "h0 = 1/(2 * alpha1) * np.array([beta1, beta2, beta3])\n",
    "h0.shape = (3, 1)\n",
    "print(h0)\n",
    "print('h0.shape =', h0.shape)"
   ]
  },
  {
   "cell_type": "code",
   "execution_count": 20,
   "metadata": {},
   "outputs": [
    {
     "name": "stdout",
     "output_type": "stream",
     "text": [
      "[[ 1.89635561e-02]\n",
      " [ 0.00000000e+00]\n",
      " [ 0.00000000e+00]\n",
      " [-1.68123009e-04]\n",
      " [-1.80245028e-02]\n",
      " [ 0.00000000e+00]\n",
      " [ 1.49473234e-04]\n",
      " [-1.26307281e-04]\n",
      " [ 1.86012427e-02]\n",
      " [-8.70349651e-01]\n",
      " [ 1.97720711e-01]\n",
      " [-1.08821940e+00]]\n",
      "x.shape = (12, 1)\n"
     ]
    }
   ],
   "source": [
    "x1 = np.matrix(T0).flatten()\n",
    "x2 = np.transpose(h0)\n",
    "\n",
    "x = np.transpose(np.hstack((x1, x2)))\n",
    "\n",
    "print(x)\n",
    "print('x.shape =', x.shape)"
   ]
  },
  {
   "cell_type": "code",
   "execution_count": 21,
   "metadata": {},
   "outputs": [],
   "source": [
    "# x_next = x - np.linalg.inv(hessian(x)) * np.gradient(x)"
   ]
  }
 ],
 "metadata": {
  "kernelspec": {
   "display_name": "Python 3",
   "language": "python",
   "name": "python3"
  },
  "language_info": {
   "codemirror_mode": {
    "name": "ipython",
    "version": 3
   },
   "file_extension": ".py",
   "mimetype": "text/x-python",
   "name": "python",
   "nbconvert_exporter": "python",
   "pygments_lexer": "ipython3",
   "version": "3.10.11"
  },
  "orig_nbformat": 4
 },
 "nbformat": 4,
 "nbformat_minor": 2
}
