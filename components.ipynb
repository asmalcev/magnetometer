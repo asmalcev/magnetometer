{
 "cells": [
  {
   "cell_type": "code",
   "execution_count": 35,
   "metadata": {},
   "outputs": [],
   "source": [
    "import numpy as np"
   ]
  },
  {
   "attachments": {},
   "cell_type": "markdown",
   "metadata": {},
   "source": [
    "## Крассидис iphone"
   ]
  },
  {
   "cell_type": "code",
   "execution_count": 36,
   "metadata": {},
   "outputs": [
    {
     "name": "stdout",
     "output_type": "stream",
     "text": [
      "[[  0.72160736]\n",
      " [ 17.76735032]\n",
      " [-57.94243465]]\n",
      "y_after.shape = (3, 1)\n",
      "[[-1.05590475]\n",
      " [-1.96895163]\n",
      " [ 5.56045753]]\n",
      "diff.shape = (3, 1)\n"
     ]
    }
   ],
   "source": [
    "y = np.array([-0.334297385620915000, 15.798398692810500000, -52.381977124183000000]).reshape(3, 1)\n",
    "h = np.array([-0.78272689, -0.21560676, -1.24611666]).reshape(3, 1)\n",
    "T = np.array([0.86920035, -0.01633663, -0.00192375, -0.01633663, 0.91213618, 0.00311428, -0.00192375, 0.00311428, 0.88345968]).reshape(3, 3)\n",
    "\n",
    "y_after = np.linalg.inv(T) @ (y - h)\n",
    "\n",
    "print(y_after)\n",
    "print('y_after.shape =', y_after.shape)\n",
    "\n",
    "diff = y - y_after\n",
    "\n",
    "print(diff)\n",
    "print('diff.shape =', diff.shape)"
   ]
  },
  {
   "attachments": {},
   "cell_type": "markdown",
   "metadata": {},
   "source": [
    "## Васконселас iphone"
   ]
  },
  {
   "cell_type": "code",
   "execution_count": 37,
   "metadata": {},
   "outputs": [
    {
     "name": "stdout",
     "output_type": "stream",
     "text": [
      "[[-41214508.00014088]\n",
      " [  7726901.41657074]\n",
      " [ -5088343.07382355]]\n",
      "y_after.shape = (3, 1)\n",
      "[[41214507.66584349]\n",
      " [-7726885.61817205]\n",
      " [ 5088290.69184643]]\n",
      "diff.shape = (3, 1)\n"
     ]
    }
   ],
   "source": [
    "h = np.array([25.80209132, 33.81487825, 142.23953796]).reshape(3, 1)\n",
    "T = np.array([-2.78787449e-06, -1.35573936e-05, 7.13014430e-06, 1.00739246e-04, 3.71584038e-04, -2.48157157e-04, -4.22630374e-05, -1.75755163e-04, 1.13677278e-04]).reshape(3, 3)\n",
    "\n",
    "y_after = np.linalg.inv(T) @ (y - h)\n",
    "\n",
    "print(y_after)\n",
    "print('y_after.shape =', y_after.shape)\n",
    "\n",
    "diff = y - y_after\n",
    "\n",
    "print(diff)\n",
    "print('diff.shape =', diff.shape)"
   ]
  },
  {
   "attachments": {},
   "cell_type": "markdown",
   "metadata": {},
   "source": [
    "## Крассидис android"
   ]
  },
  {
   "cell_type": "code",
   "execution_count": 38,
   "metadata": {},
   "outputs": [
    {
     "name": "stdout",
     "output_type": "stream",
     "text": [
      "[[  1.40094483]\n",
      " [ 21.21258449]\n",
      " [-57.74478744]]\n",
      "y_after.shape = (3, 1)\n",
      "[[-0.90073545]\n",
      " [-3.68764093]\n",
      " [ 8.06403658]]\n",
      "diff.shape = (3, 1)\n"
     ]
    }
   ],
   "source": [
    "y = np.array([0.500209389824975000, 17.524943562898800000, -49.680750858825300000]).reshape(3, 1)\n",
    "h = np.array([-0.37483251, -1.07083444, -0.04395713]).reshape(3, 1)\n",
    "T = np.array([0.86182819, -0.00918396, 0.00238145, -0.00918396, 0.89901625, 0.0079975, 0.00238145, 0.0079975, 0.86258483]).reshape(3, 3)\n",
    "\n",
    "y_after = np.linalg.inv(T) @ (y - h)\n",
    "\n",
    "print(y_after)\n",
    "print('y_after.shape =', y_after.shape)\n",
    "\n",
    "diff = y - y_after\n",
    "\n",
    "print(diff)\n",
    "print('diff.shape =', diff.shape)"
   ]
  }
 ],
 "metadata": {
  "kernelspec": {
   "display_name": "Python 3",
   "language": "python",
   "name": "python3"
  },
  "language_info": {
   "codemirror_mode": {
    "name": "ipython",
    "version": 3
   },
   "file_extension": ".py",
   "mimetype": "text/x-python",
   "name": "python",
   "nbconvert_exporter": "python",
   "pygments_lexer": "ipython3",
   "version": "3.10.11"
  },
  "orig_nbformat": 4
 },
 "nbformat": 4,
 "nbformat_minor": 2
}
